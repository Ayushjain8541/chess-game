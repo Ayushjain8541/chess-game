{
 "cells": [
  {
   "cell_type": "code",
   "execution_count": null,
   "metadata": {},
   "outputs": [],
   "source": [
    "class GameState():\n",
    "    def __init__(self):\n",
    "        self.board = [\n",
    "            [\"bR\",\"bN\",\"bB\",\"bQ\",\"bK\",\"bB\",\"bN\",\"bR\"]\n",
    "            [\"bP\",\"bP\",\"bP\",\"bP\",\"bP\",\"bP\",\"bP\",\"bP\"]\n",
    "            [\"--\",\"--\",\"--\",\"--\",\"--\",\"--\",\"--\",\"--\"]\n",
    "            [\"--\",\"--\",\"--\",\"--\",\"--\",\"--\",\"--\",\"--\"]\n",
    "            [\"--\",\"--\",\"--\",\"--\",\"--\",\"--\",\"--\",\"--\"]\n",
    "            [\"--\",\"--\",\"--\",\"--\",\"--\",\"--\",\"--\",\"--\"]\n",
    "            [\"wP\",\"wP\",\"wP\",\"wP\",\"wP\",\"wP\",\"wP\",\"wP\"]\n",
    "            [\"wR\",\"wN\",\"wB\",\"wQ\",\"wK\",\"wB\",\"wN\",\"wR\"]\n",
    "                     ]\n",
    "        self.WTM = True #white to move\n",
    "        self.movelog = []"
   ]
  }
 ],
 "metadata": {
  "kernelspec": {
   "display_name": "Python 3",
   "language": "python",
   "name": "python3"
  },
  "language_info": {
   "codemirror_mode": {
    "name": "ipython",
    "version": 3
   },
   "file_extension": ".py",
   "mimetype": "text/x-python",
   "name": "python",
   "nbconvert_exporter": "python",
   "pygments_lexer": "ipython3",
   "version": "3.6.4"
  }
 },
 "nbformat": 4,
 "nbformat_minor": 2
}
